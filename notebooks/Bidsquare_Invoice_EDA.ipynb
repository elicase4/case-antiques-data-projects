{
 "cells": [
  {
   "cell_type": "code",
   "execution_count": 1,
   "id": "977f0dd4",
   "metadata": {},
   "outputs": [],
   "source": [
    "# Specify working directory\n",
    "import sys\n",
    "import os\n",
    "\n",
    "# Get the project root\n",
    "PROJECT_ROOT = os.path.abspath(os.path.join(os.getcwd(), '..'))\n",
    "\n",
    "# Append the src path if not already in sys.path\n",
    "SRC_PATH = os.path.join(PROJECT_ROOT, 'src')\n",
    "if SRC_PATH not in sys.path:\n",
    "    sys.path.append(SRC_PATH)\n",
    "    \n",
    "# Append the auth path if not already in auth.path\n",
    "AUTH_PATH = os.path.join(PROJECT_ROOT, 'auth')\n",
    "if AUTH_PATH not in sys.path:\n",
    "    sys.path.append(AUTH_PATH)"
   ]
  },
  {
   "cell_type": "code",
   "execution_count": 2,
   "id": "c0ae299c",
   "metadata": {},
   "outputs": [],
   "source": [
    "# External Imports\n",
    "import matplotlib.pyplot as plt\n",
    "import numpy\n",
    "import pandas\n",
    "import seaborn\n",
    "\n",
    "# Internal Imports\n",
    "import data_loader"
   ]
  },
  {
   "cell_type": "code",
   "execution_count": 3,
   "id": "76f3fc43",
   "metadata": {},
   "outputs": [],
   "source": [
    "# Plotting and Printing Output Settings"
   ]
  },
  {
   "cell_type": "code",
   "execution_count": 7,
   "id": "c62d51c5",
   "metadata": {},
   "outputs": [
    {
     "ename": "PermissionError",
     "evalue": "",
     "output_type": "error",
     "traceback": [
      "\u001b[31m---------------------------------------------------------------------------\u001b[39m",
      "\u001b[31mAPIError\u001b[39m                                  Traceback (most recent call last)",
      "\u001b[36mFile \u001b[39m\u001b[32m~/Documents/CA_Data_Project/auction-data-project/.venv/lib/python3.12/site-packages/gspread/client.py:206\u001b[39m, in \u001b[36mClient.open_by_key\u001b[39m\u001b[34m(self, key)\u001b[39m\n\u001b[32m    205\u001b[39m \u001b[38;5;28;01mtry\u001b[39;00m:\n\u001b[32m--> \u001b[39m\u001b[32m206\u001b[39m     spreadsheet = \u001b[43mSpreadsheet\u001b[49m\u001b[43m(\u001b[49m\u001b[38;5;28;43mself\u001b[39;49m\u001b[43m,\u001b[49m\u001b[43m \u001b[49m\u001b[43m{\u001b[49m\u001b[33;43m\"\u001b[39;49m\u001b[33;43mid\u001b[39;49m\u001b[33;43m\"\u001b[39;49m\u001b[43m:\u001b[49m\u001b[43m \u001b[49m\u001b[43mkey\u001b[49m\u001b[43m}\u001b[49m\u001b[43m)\u001b[49m\n\u001b[32m    207\u001b[39m \u001b[38;5;28;01mexcept\u001b[39;00m APIError \u001b[38;5;28;01mas\u001b[39;00m ex:\n",
      "\u001b[36mFile \u001b[39m\u001b[32m~/Documents/CA_Data_Project/auction-data-project/.venv/lib/python3.12/site-packages/gspread/spreadsheet.py:37\u001b[39m, in \u001b[36mSpreadsheet.__init__\u001b[39m\u001b[34m(self, client, properties)\u001b[39m\n\u001b[32m     35\u001b[39m \u001b[38;5;28mself\u001b[39m._properties = properties\n\u001b[32m---> \u001b[39m\u001b[32m37\u001b[39m metadata = \u001b[38;5;28;43mself\u001b[39;49m\u001b[43m.\u001b[49m\u001b[43mfetch_sheet_metadata\u001b[49m\u001b[43m(\u001b[49m\u001b[43m)\u001b[49m\n\u001b[32m     38\u001b[39m \u001b[38;5;28mself\u001b[39m._properties.update(metadata[\u001b[33m\"\u001b[39m\u001b[33mproperties\u001b[39m\u001b[33m\"\u001b[39m])\n",
      "\u001b[36mFile \u001b[39m\u001b[32m~/Documents/CA_Data_Project/auction-data-project/.venv/lib/python3.12/site-packages/gspread/spreadsheet.py:245\u001b[39m, in \u001b[36mSpreadsheet.fetch_sheet_metadata\u001b[39m\u001b[34m(self, params)\u001b[39m\n\u001b[32m    243\u001b[39m url = SPREADSHEET_URL % \u001b[38;5;28mself\u001b[39m.id\n\u001b[32m--> \u001b[39m\u001b[32m245\u001b[39m r = \u001b[38;5;28;43mself\u001b[39;49m\u001b[43m.\u001b[49m\u001b[43mclient\u001b[49m\u001b[43m.\u001b[49m\u001b[43mrequest\u001b[49m\u001b[43m(\u001b[49m\u001b[33;43m\"\u001b[39;49m\u001b[33;43mget\u001b[39;49m\u001b[33;43m\"\u001b[39;49m\u001b[43m,\u001b[49m\u001b[43m \u001b[49m\u001b[43murl\u001b[49m\u001b[43m,\u001b[49m\u001b[43m \u001b[49m\u001b[43mparams\u001b[49m\u001b[43m=\u001b[49m\u001b[43mparams\u001b[49m\u001b[43m)\u001b[49m\n\u001b[32m    247\u001b[39m \u001b[38;5;28;01mreturn\u001b[39;00m r.json()\n",
      "\u001b[36mFile \u001b[39m\u001b[32m~/Documents/CA_Data_Project/auction-data-project/.venv/lib/python3.12/site-packages/gspread/client.py:93\u001b[39m, in \u001b[36mClient.request\u001b[39m\u001b[34m(self, method, endpoint, params, data, json, files, headers)\u001b[39m\n\u001b[32m     92\u001b[39m \u001b[38;5;28;01melse\u001b[39;00m:\n\u001b[32m---> \u001b[39m\u001b[32m93\u001b[39m     \u001b[38;5;28;01mraise\u001b[39;00m APIError(response)\n",
      "\u001b[31mAPIError\u001b[39m: {'code': 403, 'message': 'The caller does not have permission', 'status': 'PERMISSION_DENIED'}",
      "\nThe above exception was the direct cause of the following exception:\n",
      "\u001b[31mPermissionError\u001b[39m                           Traceback (most recent call last)",
      "\u001b[36mCell\u001b[39m\u001b[36m \u001b[39m\u001b[32mIn[7]\u001b[39m\u001b[32m, line 4\u001b[39m\n\u001b[32m      1\u001b[39m \u001b[38;5;66;03m# Load a test sheet\u001b[39;00m\n\u001b[32m      2\u001b[39m sheet_id = \u001b[33m\"\u001b[39m\u001b[33m10t16w3b3WGXOHPnITydngxipUbkJv_t1_45p_W-uisM\u001b[39m\u001b[33m\"\u001b[39m\n\u001b[32m----> \u001b[39m\u001b[32m4\u001b[39m df = \u001b[43mdata_loader\u001b[49m\u001b[43m.\u001b[49m\u001b[43mload_google_sheet\u001b[49m\u001b[43m(\u001b[49m\u001b[43msheet_id\u001b[49m\u001b[43m)\u001b[49m\n\u001b[32m      5\u001b[39m df.head()\n",
      "\u001b[36mFile \u001b[39m\u001b[32m~/Documents/CA_Data_Project/auction-data-project/src/data_loader.py:47\u001b[39m, in \u001b[36mload_google_sheet\u001b[39m\u001b[34m(sheet_id, worksheet_name)\u001b[39m\n\u001b[32m     43\u001b[39m creds = Credentials.from_service_account_file(\n\u001b[32m     44\u001b[39m     credentials_path, scopes=SCOPES)\n\u001b[32m     46\u001b[39m google_creds = gspread.authorize(creds)\n\u001b[32m---> \u001b[39m\u001b[32m47\u001b[39m sheet = \u001b[43mgoogle_creds\u001b[49m\u001b[43m.\u001b[49m\u001b[43mopen_by_key\u001b[49m\u001b[43m(\u001b[49m\u001b[43msheet_id\u001b[49m\u001b[43m)\u001b[49m\n\u001b[32m     48\u001b[39m worksheet = sheet.sheet1 \u001b[38;5;28;01mif\u001b[39;00m worksheet_name \u001b[38;5;129;01mis\u001b[39;00m \u001b[38;5;28;01mNone\u001b[39;00m \u001b[38;5;28;01melse\u001b[39;00m sheet.worksheet(\n\u001b[32m     49\u001b[39m     worksheet_name)\n\u001b[32m     50\u001b[39m data = worksheet.get_all_records()\n",
      "\u001b[36mFile \u001b[39m\u001b[32m~/Documents/CA_Data_Project/auction-data-project/.venv/lib/python3.12/site-packages/gspread/client.py:211\u001b[39m, in \u001b[36mClient.open_by_key\u001b[39m\u001b[34m(self, key)\u001b[39m\n\u001b[32m    209\u001b[39m         \u001b[38;5;28;01mraise\u001b[39;00m SpreadsheetNotFound(ex.response) \u001b[38;5;28;01mfrom\u001b[39;00m\u001b[38;5;250m \u001b[39m\u001b[34;01mex\u001b[39;00m\n\u001b[32m    210\u001b[39m     \u001b[38;5;28;01mif\u001b[39;00m ex.response.status_code == HTTPStatus.FORBIDDEN:\n\u001b[32m--> \u001b[39m\u001b[32m211\u001b[39m         \u001b[38;5;28;01mraise\u001b[39;00m \u001b[38;5;167;01mPermissionError\u001b[39;00m \u001b[38;5;28;01mfrom\u001b[39;00m\u001b[38;5;250m \u001b[39m\u001b[34;01mex\u001b[39;00m\n\u001b[32m    212\u001b[39m     \u001b[38;5;28;01mraise\u001b[39;00m ex\n\u001b[32m    213\u001b[39m \u001b[38;5;28;01mreturn\u001b[39;00m spreadsheet\n",
      "\u001b[31mPermissionError\u001b[39m: "
     ]
    }
   ],
   "source": [
    "# Load a test sheet\n",
    "sheet_id = \"10t16w3b3WGXOHPnITydngxipUbkJv_t1_45p_W-uisM\"\n",
    "\n",
    "df = data_loader.load_google_sheet(sheet_id)\n",
    "df.head()"
   ]
  },
  {
   "cell_type": "code",
   "execution_count": null,
   "id": "604aadca",
   "metadata": {},
   "outputs": [],
   "source": []
  },
  {
   "cell_type": "code",
   "execution_count": null,
   "id": "ec7ef83a",
   "metadata": {},
   "outputs": [],
   "source": []
  }
 ],
 "metadata": {
  "kernelspec": {
   "display_name": "Python (auction-ds-env)",
   "language": "python",
   "name": "auction-ds-env"
  },
  "language_info": {
   "codemirror_mode": {
    "name": "ipython",
    "version": 3
   },
   "file_extension": ".py",
   "mimetype": "text/x-python",
   "name": "python",
   "nbconvert_exporter": "python",
   "pygments_lexer": "ipython3",
   "version": "3.12.3"
  }
 },
 "nbformat": 4,
 "nbformat_minor": 5
}
